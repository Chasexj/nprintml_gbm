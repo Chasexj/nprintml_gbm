{
 "cells": [
  {
   "cell_type": "markdown",
   "id": "9dd7c67d",
   "metadata": {},
   "source": [
    "Experiments"
   ]
  },
  {
   "cell_type": "code",
   "execution_count": 8,
   "id": "0fad6ac1",
   "metadata": {},
   "outputs": [
    {
     "name": "stdout",
     "output_type": "stream",
     "text": [
      "100\n",
      "nprintml -a pcap --pcap_dir /home/xijiang9/Desktop/experiments/data/flow_varying_data/82_flow/82_flow_dir -L /home/xijiang9/Desktop/experiments/data/flow_varying_data/82_flow/test.txt -4 -t -u -p 0 -c 3 -o /home/xijiang9/Desktop/baseline/nprintml_gbm/82_flow_all_features\n"
     ]
    }
   ],
   "source": [
    "import os\n",
    "import subprocess\n",
    "import itertools\n",
    "with open('/home/xijiang9/Desktop/experiments/service_recognition/Codes/child-codes/efficient-classifier/baseline_experiment_str.txt','r') as f:\n",
    "    experiments = f.readline().replace('\\'','').split(',')\n",
    "print(len(experiments))\n",
    "print(experiments[0])"
   ]
  },
  {
   "cell_type": "markdown",
   "id": "930a3f2c",
   "metadata": {},
   "source": [
    "none persisted"
   ]
  },
  {
   "cell_type": "code",
   "execution_count": null,
   "id": "513bc7a5",
   "metadata": {
    "scrolled": true
   },
   "outputs": [
    {
     "name": "stderr",
     "output_type": "stream",
     "text": [
      "[warn] nprint expected version for nprintML (1.2.0) does not match version on PATH (1.2.1 at /usr/local/bin/nprint)\n",
      "/usr/local/lib/python3.8/dist-packages/nprintml/label/aggregator/pcap.py:94: UserWarning: genfromtxt: Empty input file: \"<NamedBytesIO: meet-chrome-1619254915-100-1.1-0-0-0007.npt>\"\n",
      "  npt = np.genfromtxt(\n",
      "/usr/local/lib/python3.8/dist-packages/nprintml/label/aggregator/pcap.py:94: UserWarning: genfromtxt: Empty input file: \"<NamedBytesIO: zoom-1620246744-10000-0.8-0003.npt>\"\n",
      "  npt = np.genfromtxt(\n"
     ]
    },
    {
     "name": "stdout",
     "output_type": "stream",
     "text": [
      "\n",
      "done with0\n"
     ]
    },
    {
     "name": "stderr",
     "output_type": "stream",
     "text": [
      "[warn] nprint expected version for nprintML (1.2.0) does not match version on PATH (1.2.1 at /usr/local/bin/nprint)\n",
      "/usr/local/lib/python3.8/dist-packages/nprintml/label/aggregator/pcap.py:94: UserWarning: genfromtxt: Empty input file: \"<NamedBytesIO: meet-chrome-1619254915-100-1.1-0-0-0007.npt>\"\n",
      "  npt = np.genfromtxt(\n",
      "/usr/local/lib/python3.8/dist-packages/nprintml/label/aggregator/pcap.py:94: UserWarning: genfromtxt: Empty input file: \"<NamedBytesIO: zoom-1620246744-10000-0.8-0003.npt>\"\n",
      "  npt = np.genfromtxt(\n",
      "mkdir: cannot create directory ‘all_features’: File exists\n"
     ]
    },
    {
     "name": "stdout",
     "output_type": "stream",
     "text": [
      "\n"
     ]
    },
    {
     "name": "stderr",
     "output_type": "stream",
     "text": [
      "[warn] nprint expected version for nprintML (1.2.0) does not match version on PATH (1.2.1 at /usr/local/bin/nprint)\n",
      "mkdir: cannot create directory ‘all_features’: File exists\n"
     ]
    },
    {
     "name": "stdout",
     "output_type": "stream",
     "text": [
      "\n"
     ]
    },
    {
     "name": "stderr",
     "output_type": "stream",
     "text": [
      "[warn] nprint expected version for nprintML (1.2.0) does not match version on PATH (1.2.1 at /usr/local/bin/nprint)\n",
      "mkdir: cannot create directory ‘all_features’: File exists\n"
     ]
    },
    {
     "name": "stdout",
     "output_type": "stream",
     "text": [
      "\n"
     ]
    },
    {
     "name": "stderr",
     "output_type": "stream",
     "text": [
      "[warn] nprint expected version for nprintML (1.2.0) does not match version on PATH (1.2.1 at /usr/local/bin/nprint)\n",
      "mkdir: cannot create directory ‘all_features’: File exists\n"
     ]
    },
    {
     "name": "stdout",
     "output_type": "stream",
     "text": [
      "\n"
     ]
    },
    {
     "name": "stderr",
     "output_type": "stream",
     "text": [
      "[warn] nprint expected version for nprintML (1.2.0) does not match version on PATH (1.2.1 at /usr/local/bin/nprint)\n",
      "/usr/local/lib/python3.8/dist-packages/nprintml/label/aggregator/pcap.py:94: UserWarning: genfromtxt: Empty input file: \"<NamedBytesIO: meet-chrome-1619254915-100-1.1-0-0-0007.npt>\"\n",
      "  npt = np.genfromtxt(\n",
      "/usr/local/lib/python3.8/dist-packages/nprintml/label/aggregator/pcap.py:94: UserWarning: genfromtxt: Empty input file: \"<NamedBytesIO: zoom-1620246744-10000-0.8-0003.npt>\"\n",
      "  npt = np.genfromtxt(\n",
      "mkdir: cannot create directory ‘all_features’: File exists\n"
     ]
    },
    {
     "name": "stdout",
     "output_type": "stream",
     "text": [
      "\n"
     ]
    },
    {
     "name": "stderr",
     "output_type": "stream",
     "text": [
      "[warn] nprint expected version for nprintML (1.2.0) does not match version on PATH (1.2.1 at /usr/local/bin/nprint)\n",
      "mkdir: cannot create directory ‘all_features’: File exists\n"
     ]
    },
    {
     "name": "stdout",
     "output_type": "stream",
     "text": [
      "\n"
     ]
    },
    {
     "name": "stderr",
     "output_type": "stream",
     "text": [
      "[warn] nprint expected version for nprintML (1.2.0) does not match version on PATH (1.2.1 at /usr/local/bin/nprint)\n"
     ]
    },
    {
     "name": "stdout",
     "output_type": "stream",
     "text": [
      "\n"
     ]
    },
    {
     "name": "stderr",
     "output_type": "stream",
     "text": [
      "mkdir: cannot create directory ‘all_features’: File exists\n",
      "[warn] nprint expected version for nprintML (1.2.0) does not match version on PATH (1.2.1 at /usr/local/bin/nprint)\n"
     ]
    },
    {
     "name": "stdout",
     "output_type": "stream",
     "text": [
      "\n"
     ]
    },
    {
     "name": "stderr",
     "output_type": "stream",
     "text": [
      "mkdir: cannot create directory ‘all_features’: File exists\n",
      "[warn] nprint expected version for nprintML (1.2.0) does not match version on PATH (1.2.1 at /usr/local/bin/nprint)\n",
      "/usr/local/lib/python3.8/dist-packages/nprintml/label/aggregator/pcap.py:94: UserWarning: genfromtxt: Empty input file: \"<NamedBytesIO: zoom-1620250595-0.8-10000-0004.npt>\"\n",
      "  npt = np.genfromtxt(\n",
      "/usr/local/lib/python3.8/dist-packages/nprintml/label/aggregator/pcap.py:94: UserWarning: genfromtxt: Empty input file: \"<NamedBytesIO: teams-1620113781-0.8-100-0005.npt>\"\n",
      "  npt = np.genfromtxt(\n",
      "mkdir: cannot create directory ‘all_features’: File exists\n"
     ]
    },
    {
     "name": "stdout",
     "output_type": "stream",
     "text": [
      "\n"
     ]
    },
    {
     "name": "stderr",
     "output_type": "stream",
     "text": [
      "[warn] nprint expected version for nprintML (1.2.0) does not match version on PATH (1.2.1 at /usr/local/bin/nprint)\n",
      "/usr/local/lib/python3.8/dist-packages/nprintml/label/aggregator/pcap.py:94: UserWarning: genfromtxt: Empty input file: \"<NamedBytesIO: meet-chrome-1619244983-100-0.7-0-0-0007.npt>\"\n",
      "  npt = np.genfromtxt(\n",
      "mkdir: cannot create directory ‘all_features’: File exists\n"
     ]
    },
    {
     "name": "stdout",
     "output_type": "stream",
     "text": [
      "\n"
     ]
    },
    {
     "name": "stderr",
     "output_type": "stream",
     "text": [
      "[warn] nprint expected version for nprintML (1.2.0) does not match version on PATH (1.2.1 at /usr/local/bin/nprint)\n",
      "/usr/local/lib/python3.8/dist-packages/nprintml/label/aggregator/pcap.py:94: UserWarning: genfromtxt: Empty input file: \"<NamedBytesIO: teams-1620117197-100-0.8-0017.npt>\"\n",
      "  npt = np.genfromtxt(\n",
      "/usr/local/lib/python3.8/dist-packages/nprintml/label/aggregator/pcap.py:94: UserWarning: genfromtxt: Empty input file: \"<NamedBytesIO: screen_interaction_3_1616181395-0002.npt>\"\n",
      "  npt = np.genfromtxt(\n",
      "mkdir: cannot create directory ‘all_features’: File exists\n"
     ]
    },
    {
     "name": "stdout",
     "output_type": "stream",
     "text": [
      "\n"
     ]
    },
    {
     "name": "stderr",
     "output_type": "stream",
     "text": [
      "[warn] nprint expected version for nprintML (1.2.0) does not match version on PATH (1.2.1 at /usr/local/bin/nprint)\n",
      "mkdir: cannot create directory ‘all_features’: File exists\n"
     ]
    },
    {
     "name": "stdout",
     "output_type": "stream",
     "text": [
      "\n"
     ]
    },
    {
     "name": "stderr",
     "output_type": "stream",
     "text": [
      "[warn] nprint expected version for nprintML (1.2.0) does not match version on PATH (1.2.1 at /usr/local/bin/nprint)\n",
      "mkdir: cannot create directory ‘all_features’: File exists\n"
     ]
    },
    {
     "name": "stdout",
     "output_type": "stream",
     "text": [
      "\n"
     ]
    },
    {
     "name": "stderr",
     "output_type": "stream",
     "text": [
      "[warn] nprint expected version for nprintML (1.2.0) does not match version on PATH (1.2.1 at /usr/local/bin/nprint)\n",
      "mkdir: cannot create directory ‘all_features’: File exists\n"
     ]
    },
    {
     "name": "stdout",
     "output_type": "stream",
     "text": [
      "\n"
     ]
    },
    {
     "name": "stderr",
     "output_type": "stream",
     "text": [
      "[warn] nprint expected version for nprintML (1.2.0) does not match version on PATH (1.2.1 at /usr/local/bin/nprint)\n",
      "mkdir: cannot create directory ‘all_features’: File exists\n"
     ]
    },
    {
     "name": "stdout",
     "output_type": "stream",
     "text": [
      "\n"
     ]
    },
    {
     "name": "stderr",
     "output_type": "stream",
     "text": [
      "[warn] nprint expected version for nprintML (1.2.0) does not match version on PATH (1.2.1 at /usr/local/bin/nprint)\n",
      "/usr/local/lib/python3.8/dist-packages/nprintml/label/aggregator/pcap.py:94: UserWarning: genfromtxt: Empty input file: \"<NamedBytesIO: meet-chrome-1619244983-100-0.7-0-0-0007.npt>\"\n",
      "  npt = np.genfromtxt(\n",
      "mkdir: cannot create directory ‘all_features’: File exists\n"
     ]
    },
    {
     "name": "stdout",
     "output_type": "stream",
     "text": [
      "\n"
     ]
    },
    {
     "name": "stderr",
     "output_type": "stream",
     "text": [
      "[warn] nprint expected version for nprintML (1.2.0) does not match version on PATH (1.2.1 at /usr/local/bin/nprint)\n",
      "mkdir: cannot create directory ‘all_features’: File exists\n"
     ]
    },
    {
     "name": "stdout",
     "output_type": "stream",
     "text": [
      "\n"
     ]
    },
    {
     "name": "stderr",
     "output_type": "stream",
     "text": [
      "[warn] nprint expected version for nprintML (1.2.0) does not match version on PATH (1.2.1 at /usr/local/bin/nprint)\n",
      "/usr/local/lib/python3.8/dist-packages/nprintml/label/aggregator/pcap.py:94: UserWarning: genfromtxt: Empty input file: \"<NamedBytesIO: meet-chrome-1619254915-100-1.1-0-0-0007.npt>\"\n",
      "  npt = np.genfromtxt(\n",
      "/usr/local/lib/python3.8/dist-packages/nprintml/label/aggregator/pcap.py:94: UserWarning: genfromtxt: Empty input file: \"<NamedBytesIO: zoom-1620246744-10000-0.8-0003.npt>\"\n",
      "  npt = np.genfromtxt(\n",
      "mkdir: cannot create directory ‘all_features’: File exists\n"
     ]
    },
    {
     "name": "stdout",
     "output_type": "stream",
     "text": [
      "\n"
     ]
    },
    {
     "name": "stderr",
     "output_type": "stream",
     "text": [
      "[warn] nprint expected version for nprintML (1.2.0) does not match version on PATH (1.2.1 at /usr/local/bin/nprint)\n",
      "/usr/local/lib/python3.8/dist-packages/nprintml/label/aggregator/pcap.py:94: UserWarning: genfromtxt: Empty input file: \"<NamedBytesIO: teams-1620117197-100-0.8-0017.npt>\"\n",
      "  npt = np.genfromtxt(\n",
      "/usr/local/lib/python3.8/dist-packages/nprintml/label/aggregator/pcap.py:94: UserWarning: genfromtxt: Empty input file: \"<NamedBytesIO: screen_interaction_3_1616181395-0002.npt>\"\n",
      "  npt = np.genfromtxt(\n",
      "mkdir: cannot create directory ‘all_features’: File exists\n"
     ]
    },
    {
     "name": "stdout",
     "output_type": "stream",
     "text": [
      "\n"
     ]
    },
    {
     "name": "stderr",
     "output_type": "stream",
     "text": [
      "[warn] nprint expected version for nprintML (1.2.0) does not match version on PATH (1.2.1 at /usr/local/bin/nprint)\n",
      "mkdir: cannot create directory ‘all_features’: File exists\n"
     ]
    },
    {
     "name": "stdout",
     "output_type": "stream",
     "text": [
      "\n"
     ]
    },
    {
     "name": "stderr",
     "output_type": "stream",
     "text": [
      "[warn] nprint expected version for nprintML (1.2.0) does not match version on PATH (1.2.1 at /usr/local/bin/nprint)\n",
      "mkdir: cannot create directory ‘all_features’: File exists\n"
     ]
    },
    {
     "name": "stdout",
     "output_type": "stream",
     "text": [
      "\n"
     ]
    },
    {
     "name": "stderr",
     "output_type": "stream",
     "text": [
      "[warn] nprint expected version for nprintML (1.2.0) does not match version on PATH (1.2.1 at /usr/local/bin/nprint)\n",
      "mkdir: cannot create directory ‘all_features’: File exists\n"
     ]
    },
    {
     "name": "stdout",
     "output_type": "stream",
     "text": [
      "\n"
     ]
    },
    {
     "name": "stderr",
     "output_type": "stream",
     "text": [
      "[warn] nprint expected version for nprintML (1.2.0) does not match version on PATH (1.2.1 at /usr/local/bin/nprint)\n",
      "mkdir: cannot create directory ‘all_features’: File exists\n"
     ]
    },
    {
     "name": "stdout",
     "output_type": "stream",
     "text": [
      "\n"
     ]
    },
    {
     "name": "stderr",
     "output_type": "stream",
     "text": [
      "[warn] nprint expected version for nprintML (1.2.0) does not match version on PATH (1.2.1 at /usr/local/bin/nprint)\n",
      "mkdir: cannot create directory ‘all_features’: File exists\n"
     ]
    },
    {
     "name": "stdout",
     "output_type": "stream",
     "text": [
      "\n"
     ]
    },
    {
     "name": "stderr",
     "output_type": "stream",
     "text": [
      "[warn] nprint expected version for nprintML (1.2.0) does not match version on PATH (1.2.1 at /usr/local/bin/nprint)\n",
      "/usr/local/lib/python3.8/dist-packages/nprintml/label/aggregator/pcap.py:94: UserWarning: genfromtxt: Empty input file: \"<NamedBytesIO: zoom-1620259990-10000-5-0004.npt>\"\n",
      "  npt = np.genfromtxt(\n",
      "mkdir: cannot create directory ‘all_features’: File exists\n"
     ]
    },
    {
     "name": "stdout",
     "output_type": "stream",
     "text": [
      "\n"
     ]
    },
    {
     "name": "stderr",
     "output_type": "stream",
     "text": [
      "[warn] nprint expected version for nprintML (1.2.0) does not match version on PATH (1.2.1 at /usr/local/bin/nprint)\n"
     ]
    },
    {
     "name": "stdout",
     "output_type": "stream",
     "text": [
      "\n"
     ]
    },
    {
     "name": "stderr",
     "output_type": "stream",
     "text": [
      "mkdir: cannot create directory ‘all_features’: File exists\n",
      "[warn] nprint expected version for nprintML (1.2.0) does not match version on PATH (1.2.1 at /usr/local/bin/nprint)\n",
      "/usr/local/lib/python3.8/dist-packages/nprintml/label/aggregator/pcap.py:94: UserWarning: genfromtxt: Empty input file: \"<NamedBytesIO: teams-1620117197-100-0.8-0017.npt>\"\n",
      "  npt = np.genfromtxt(\n",
      "/usr/local/lib/python3.8/dist-packages/nprintml/label/aggregator/pcap.py:94: UserWarning: genfromtxt: Empty input file: \"<NamedBytesIO: screen_interaction_3_1616181395-0002.npt>\"\n",
      "  npt = np.genfromtxt(\n",
      "mkdir: cannot create directory ‘all_features’: File exists\n"
     ]
    },
    {
     "name": "stdout",
     "output_type": "stream",
     "text": [
      "\n"
     ]
    },
    {
     "name": "stderr",
     "output_type": "stream",
     "text": [
      "[warn] nprint expected version for nprintML (1.2.0) does not match version on PATH (1.2.1 at /usr/local/bin/nprint)\n",
      "/usr/local/lib/python3.8/dist-packages/nprintml/label/aggregator/pcap.py:94: UserWarning: genfromtxt: Empty input file: \"<NamedBytesIO: teams-1620117197-100-0.8-0017.npt>\"\n",
      "  npt = np.genfromtxt(\n",
      "/usr/local/lib/python3.8/dist-packages/nprintml/label/aggregator/pcap.py:94: UserWarning: genfromtxt: Empty input file: \"<NamedBytesIO: screen_interaction_3_1616181395-0002.npt>\"\n",
      "  npt = np.genfromtxt(\n",
      "mkdir: cannot create directory ‘all_features’: File exists\n"
     ]
    },
    {
     "name": "stdout",
     "output_type": "stream",
     "text": [
      "\n"
     ]
    },
    {
     "name": "stderr",
     "output_type": "stream",
     "text": [
      "[warn] nprint expected version for nprintML (1.2.0) does not match version on PATH (1.2.1 at /usr/local/bin/nprint)\n",
      "mkdir: cannot create directory ‘all_features’: File exists\n"
     ]
    },
    {
     "name": "stdout",
     "output_type": "stream",
     "text": [
      "\n"
     ]
    },
    {
     "name": "stderr",
     "output_type": "stream",
     "text": [
      "[warn] nprint expected version for nprintML (1.2.0) does not match version on PATH (1.2.1 at /usr/local/bin/nprint)\n"
     ]
    },
    {
     "name": "stdout",
     "output_type": "stream",
     "text": [
      "\n"
     ]
    },
    {
     "name": "stderr",
     "output_type": "stream",
     "text": [
      "mkdir: cannot create directory ‘all_features’: File exists\n",
      "[warn] nprint expected version for nprintML (1.2.0) does not match version on PATH (1.2.1 at /usr/local/bin/nprint)\n",
      "mkdir: cannot create directory ‘all_features’: File exists\n"
     ]
    },
    {
     "name": "stdout",
     "output_type": "stream",
     "text": [
      "\n"
     ]
    },
    {
     "name": "stderr",
     "output_type": "stream",
     "text": [
      "[warn] nprint expected version for nprintML (1.2.0) does not match version on PATH (1.2.1 at /usr/local/bin/nprint)\n",
      "/usr/local/lib/python3.8/dist-packages/nprintml/label/aggregator/pcap.py:94: UserWarning: genfromtxt: Empty input file: \"<NamedBytesIO: meet-chrome-1619244983-100-0.7-0-0-0007.npt>\"\n",
      "  npt = np.genfromtxt(\n",
      "mkdir: cannot create directory ‘all_features’: File exists\n"
     ]
    },
    {
     "name": "stdout",
     "output_type": "stream",
     "text": [
      "\n"
     ]
    },
    {
     "name": "stderr",
     "output_type": "stream",
     "text": [
      "[warn] nprint expected version for nprintML (1.2.0) does not match version on PATH (1.2.1 at /usr/local/bin/nprint)\n",
      "/usr/local/lib/python3.8/dist-packages/nprintml/label/aggregator/pcap.py:94: UserWarning: genfromtxt: Empty input file: \"<NamedBytesIO: meet-chrome-1619254915-100-1.1-0-0-0007.npt>\"\n",
      "  npt = np.genfromtxt(\n",
      "/usr/local/lib/python3.8/dist-packages/nprintml/label/aggregator/pcap.py:94: UserWarning: genfromtxt: Empty input file: \"<NamedBytesIO: zoom-1620246744-10000-0.8-0003.npt>\"\n",
      "  npt = np.genfromtxt(\n",
      "mkdir: cannot create directory ‘all_features’: File exists\n"
     ]
    },
    {
     "name": "stdout",
     "output_type": "stream",
     "text": [
      "\n"
     ]
    },
    {
     "name": "stderr",
     "output_type": "stream",
     "text": [
      "[warn] nprint expected version for nprintML (1.2.0) does not match version on PATH (1.2.1 at /usr/local/bin/nprint)\n",
      "mkdir: cannot create directory ‘all_features’: File exists\n"
     ]
    },
    {
     "name": "stdout",
     "output_type": "stream",
     "text": [
      "\n"
     ]
    },
    {
     "name": "stderr",
     "output_type": "stream",
     "text": [
      "[warn] nprint expected version for nprintML (1.2.0) does not match version on PATH (1.2.1 at /usr/local/bin/nprint)\n",
      "/usr/local/lib/python3.8/dist-packages/nprintml/label/aggregator/pcap.py:94: UserWarning: genfromtxt: Empty input file: \"<NamedBytesIO: teams-1620117197-100-0.8-0017.npt>\"\n",
      "  npt = np.genfromtxt(\n",
      "/usr/local/lib/python3.8/dist-packages/nprintml/label/aggregator/pcap.py:94: UserWarning: genfromtxt: Empty input file: \"<NamedBytesIO: screen_interaction_3_1616181395-0002.npt>\"\n",
      "  npt = np.genfromtxt(\n",
      "mkdir: cannot create directory ‘all_features’: File exists\n"
     ]
    },
    {
     "name": "stdout",
     "output_type": "stream",
     "text": [
      "\n"
     ]
    },
    {
     "name": "stderr",
     "output_type": "stream",
     "text": [
      "[warn] nprint expected version for nprintML (1.2.0) does not match version on PATH (1.2.1 at /usr/local/bin/nprint)\n",
      "mkdir: cannot create directory ‘all_features’: File exists\n"
     ]
    },
    {
     "name": "stdout",
     "output_type": "stream",
     "text": [
      "\n"
     ]
    },
    {
     "name": "stderr",
     "output_type": "stream",
     "text": [
      "[warn] nprint expected version for nprintML (1.2.0) does not match version on PATH (1.2.1 at /usr/local/bin/nprint)\n",
      "mkdir: cannot create directory ‘all_features’: File exists\n"
     ]
    },
    {
     "name": "stdout",
     "output_type": "stream",
     "text": [
      "\n"
     ]
    },
    {
     "name": "stderr",
     "output_type": "stream",
     "text": [
      "[warn] nprint expected version for nprintML (1.2.0) does not match version on PATH (1.2.1 at /usr/local/bin/nprint)\n",
      "/usr/local/lib/python3.8/dist-packages/nprintml/label/aggregator/pcap.py:94: UserWarning: genfromtxt: Empty input file: \"<NamedBytesIO: zoom-1620250595-0.8-10000-0004.npt>\"\n",
      "  npt = np.genfromtxt(\n",
      "/usr/local/lib/python3.8/dist-packages/nprintml/label/aggregator/pcap.py:94: UserWarning: genfromtxt: Empty input file: \"<NamedBytesIO: teams-1620113781-0.8-100-0005.npt>\"\n",
      "  npt = np.genfromtxt(\n",
      "mkdir: cannot create directory ‘all_features’: File exists\n"
     ]
    },
    {
     "name": "stdout",
     "output_type": "stream",
     "text": [
      "\n"
     ]
    },
    {
     "name": "stderr",
     "output_type": "stream",
     "text": [
      "[warn] nprint expected version for nprintML (1.2.0) does not match version on PATH (1.2.1 at /usr/local/bin/nprint)\n",
      "/usr/local/lib/python3.8/dist-packages/nprintml/label/aggregator/pcap.py:94: UserWarning: genfromtxt: Empty input file: \"<NamedBytesIO: zoom-1620250595-0.8-10000-0004.npt>\"\n",
      "  npt = np.genfromtxt(\n",
      "/usr/local/lib/python3.8/dist-packages/nprintml/label/aggregator/pcap.py:94: UserWarning: genfromtxt: Empty input file: \"<NamedBytesIO: teams-1620113781-0.8-100-0005.npt>\"\n",
      "  npt = np.genfromtxt(\n",
      "mkdir: cannot create directory ‘all_features’: File exists\n"
     ]
    },
    {
     "name": "stdout",
     "output_type": "stream",
     "text": [
      "\n"
     ]
    },
    {
     "name": "stderr",
     "output_type": "stream",
     "text": [
      "[warn] nprint expected version for nprintML (1.2.0) does not match version on PATH (1.2.1 at /usr/local/bin/nprint)\n",
      "/usr/local/lib/python3.8/dist-packages/nprintml/label/aggregator/pcap.py:94: UserWarning: genfromtxt: Empty input file: \"<NamedBytesIO: zoom-1620246744-10000-0.8-0003.npt>\"\n",
      "  npt = np.genfromtxt(\n",
      "/usr/local/lib/python3.8/dist-packages/nprintml/label/aggregator/pcap.py:94: UserWarning: genfromtxt: Empty input file: \"<NamedBytesIO: meet-chrome-1619254915-100-1.1-0-0-0007.npt>\"\n",
      "  npt = np.genfromtxt(\n",
      "mkdir: cannot create directory ‘all_features’: File exists\n"
     ]
    },
    {
     "name": "stdout",
     "output_type": "stream",
     "text": [
      "\n"
     ]
    },
    {
     "name": "stderr",
     "output_type": "stream",
     "text": [
      "[warn] nprint expected version for nprintML (1.2.0) does not match version on PATH (1.2.1 at /usr/local/bin/nprint)\n",
      "/usr/local/lib/python3.8/dist-packages/nprintml/label/aggregator/pcap.py:94: UserWarning: genfromtxt: Empty input file: \"<NamedBytesIO: meet-chrome-1619244983-100-0.7-0-0-0007.npt>\"\n",
      "  npt = np.genfromtxt(\n",
      "mkdir: cannot create directory ‘all_features’: File exists\n"
     ]
    },
    {
     "name": "stdout",
     "output_type": "stream",
     "text": [
      "\n"
     ]
    },
    {
     "name": "stderr",
     "output_type": "stream",
     "text": [
      "[warn] nprint expected version for nprintML (1.2.0) does not match version on PATH (1.2.1 at /usr/local/bin/nprint)\n",
      "/usr/local/lib/python3.8/dist-packages/nprintml/label/aggregator/pcap.py:94: UserWarning: genfromtxt: Empty input file: \"<NamedBytesIO: meet-chrome-1619254915-100-1.1-0-0-0007.npt>\"\n",
      "  npt = np.genfromtxt(\n",
      "/usr/local/lib/python3.8/dist-packages/nprintml/label/aggregator/pcap.py:94: UserWarning: genfromtxt: Empty input file: \"<NamedBytesIO: zoom-1620246744-10000-0.8-0003.npt>\"\n",
      "  npt = np.genfromtxt(\n",
      "mkdir: cannot create directory ‘all_features’: File exists\n"
     ]
    },
    {
     "name": "stdout",
     "output_type": "stream",
     "text": [
      "\n"
     ]
    },
    {
     "name": "stderr",
     "output_type": "stream",
     "text": [
      "[warn] nprint expected version for nprintML (1.2.0) does not match version on PATH (1.2.1 at /usr/local/bin/nprint)\n",
      "mkdir: cannot create directory ‘all_features’: File exists\n"
     ]
    },
    {
     "name": "stdout",
     "output_type": "stream",
     "text": [
      "\n"
     ]
    },
    {
     "name": "stderr",
     "output_type": "stream",
     "text": [
      "[warn] nprint expected version for nprintML (1.2.0) does not match version on PATH (1.2.1 at /usr/local/bin/nprint)\n",
      "mkdir: cannot create directory ‘all_features’: File exists\n"
     ]
    },
    {
     "name": "stdout",
     "output_type": "stream",
     "text": [
      "\n"
     ]
    },
    {
     "name": "stderr",
     "output_type": "stream",
     "text": [
      "[warn] nprint expected version for nprintML (1.2.0) does not match version on PATH (1.2.1 at /usr/local/bin/nprint)\n",
      "/usr/local/lib/python3.8/dist-packages/nprintml/label/aggregator/pcap.py:94: UserWarning: genfromtxt: Empty input file: \"<NamedBytesIO: meet-chrome-1619244983-100-0.7-0-0-0007.npt>\"\n",
      "  npt = np.genfromtxt(\n",
      "mkdir: cannot create directory ‘all_features’: File exists\n"
     ]
    },
    {
     "name": "stdout",
     "output_type": "stream",
     "text": [
      "\n"
     ]
    },
    {
     "name": "stderr",
     "output_type": "stream",
     "text": [
      "[warn] nprint expected version for nprintML (1.2.0) does not match version on PATH (1.2.1 at /usr/local/bin/nprint)\n",
      "/usr/local/lib/python3.8/dist-packages/nprintml/label/aggregator/pcap.py:94: UserWarning: genfromtxt: Empty input file: \"<NamedBytesIO: teams-1620117197-100-0.8-0017.npt>\"\n",
      "  npt = np.genfromtxt(\n",
      "/usr/local/lib/python3.8/dist-packages/nprintml/label/aggregator/pcap.py:94: UserWarning: genfromtxt: Empty input file: \"<NamedBytesIO: screen_interaction_3_1616181395-0002.npt>\"\n",
      "  npt = np.genfromtxt(\n",
      "mkdir: cannot create directory ‘all_features’: File exists\n"
     ]
    },
    {
     "name": "stdout",
     "output_type": "stream",
     "text": [
      "\n"
     ]
    },
    {
     "name": "stderr",
     "output_type": "stream",
     "text": [
      "[warn] nprint expected version for nprintML (1.2.0) does not match version on PATH (1.2.1 at /usr/local/bin/nprint)\n",
      "/usr/local/lib/python3.8/dist-packages/nprintml/label/aggregator/pcap.py:94: UserWarning: genfromtxt: Empty input file: \"<NamedBytesIO: zoom-1620250595-0.8-10000-0004.npt>\"\n",
      "  npt = np.genfromtxt(\n",
      "/usr/local/lib/python3.8/dist-packages/nprintml/label/aggregator/pcap.py:94: UserWarning: genfromtxt: Empty input file: \"<NamedBytesIO: teams-1620113781-0.8-100-0005.npt>\"\n",
      "  npt = np.genfromtxt(\n",
      "mkdir: cannot create directory ‘all_features’: File exists\n"
     ]
    },
    {
     "name": "stdout",
     "output_type": "stream",
     "text": [
      "\n"
     ]
    },
    {
     "name": "stderr",
     "output_type": "stream",
     "text": [
      "[warn] nprint expected version for nprintML (1.2.0) does not match version on PATH (1.2.1 at /usr/local/bin/nprint)\n",
      "mkdir: cannot create directory ‘all_features’: File exists\n"
     ]
    },
    {
     "name": "stdout",
     "output_type": "stream",
     "text": [
      "\n"
     ]
    },
    {
     "name": "stderr",
     "output_type": "stream",
     "text": [
      "[warn] nprint expected version for nprintML (1.2.0) does not match version on PATH (1.2.1 at /usr/local/bin/nprint)\n",
      "mkdir: cannot create directory ‘all_features’: File exists\n"
     ]
    },
    {
     "name": "stdout",
     "output_type": "stream",
     "text": [
      "\n"
     ]
    },
    {
     "name": "stderr",
     "output_type": "stream",
     "text": [
      "[warn] nprint expected version for nprintML (1.2.0) does not match version on PATH (1.2.1 at /usr/local/bin/nprint)\n",
      "mkdir: cannot create directory ‘all_features’: File exists\n"
     ]
    },
    {
     "name": "stdout",
     "output_type": "stream",
     "text": [
      "\n"
     ]
    },
    {
     "name": "stderr",
     "output_type": "stream",
     "text": [
      "[warn] nprint expected version for nprintML (1.2.0) does not match version on PATH (1.2.1 at /usr/local/bin/nprint)\n",
      "/usr/local/lib/python3.8/dist-packages/nprintml/label/aggregator/pcap.py:94: UserWarning: genfromtxt: Empty input file: \"<NamedBytesIO: teams-1620117197-100-0.8-0017.npt>\"\n",
      "  npt = np.genfromtxt(\n",
      "/usr/local/lib/python3.8/dist-packages/nprintml/label/aggregator/pcap.py:94: UserWarning: genfromtxt: Empty input file: \"<NamedBytesIO: screen_interaction_3_1616181395-0002.npt>\"\n",
      "  npt = np.genfromtxt(\n",
      "mkdir: cannot create directory ‘all_features’: File exists\n"
     ]
    },
    {
     "name": "stdout",
     "output_type": "stream",
     "text": [
      "\n"
     ]
    },
    {
     "name": "stderr",
     "output_type": "stream",
     "text": [
      "[warn] nprint expected version for nprintML (1.2.0) does not match version on PATH (1.2.1 at /usr/local/bin/nprint)\n",
      "/usr/local/lib/python3.8/dist-packages/nprintml/label/aggregator/pcap.py:94: UserWarning: genfromtxt: Empty input file: \"<NamedBytesIO: zoom-1620250595-0.8-10000-0004.npt>\"\n",
      "  npt = np.genfromtxt(\n",
      "/usr/local/lib/python3.8/dist-packages/nprintml/label/aggregator/pcap.py:94: UserWarning: genfromtxt: Empty input file: \"<NamedBytesIO: teams-1620113781-0.8-100-0005.npt>\"\n",
      "  npt = np.genfromtxt(\n",
      "mkdir: cannot create directory ‘all_features’: File exists\n"
     ]
    },
    {
     "name": "stdout",
     "output_type": "stream",
     "text": [
      "\n"
     ]
    },
    {
     "name": "stderr",
     "output_type": "stream",
     "text": [
      "[warn] nprint expected version for nprintML (1.2.0) does not match version on PATH (1.2.1 at /usr/local/bin/nprint)\n",
      "/usr/local/lib/python3.8/dist-packages/nprintml/label/aggregator/pcap.py:94: UserWarning: genfromtxt: Empty input file: \"<NamedBytesIO: zoom-1620250595-0.8-10000-0004.npt>\"\n",
      "  npt = np.genfromtxt(\n",
      "/usr/local/lib/python3.8/dist-packages/nprintml/label/aggregator/pcap.py:94: UserWarning: genfromtxt: Empty input file: \"<NamedBytesIO: teams-1620113781-0.8-100-0005.npt>\"\n",
      "  npt = np.genfromtxt(\n",
      "mkdir: cannot create directory ‘all_features’: File exists\n"
     ]
    },
    {
     "name": "stdout",
     "output_type": "stream",
     "text": [
      "\n"
     ]
    },
    {
     "name": "stderr",
     "output_type": "stream",
     "text": [
      "[warn] nprint expected version for nprintML (1.2.0) does not match version on PATH (1.2.1 at /usr/local/bin/nprint)\n",
      "mkdir: cannot create directory ‘all_features’: File exists\n"
     ]
    },
    {
     "name": "stdout",
     "output_type": "stream",
     "text": [
      "\n"
     ]
    },
    {
     "name": "stderr",
     "output_type": "stream",
     "text": [
      "[warn] nprint expected version for nprintML (1.2.0) does not match version on PATH (1.2.1 at /usr/local/bin/nprint)\n",
      "/usr/local/lib/python3.8/dist-packages/nprintml/label/aggregator/pcap.py:94: UserWarning: genfromtxt: Empty input file: \"<NamedBytesIO: teams-1620117197-100-0.8-0017.npt>\"\n",
      "  npt = np.genfromtxt(\n",
      "/usr/local/lib/python3.8/dist-packages/nprintml/label/aggregator/pcap.py:94: UserWarning: genfromtxt: Empty input file: \"<NamedBytesIO: screen_interaction_3_1616181395-0002.npt>\"\n",
      "  npt = np.genfromtxt(\n",
      "mkdir: cannot create directory ‘all_features’: File exists\n"
     ]
    },
    {
     "name": "stdout",
     "output_type": "stream",
     "text": [
      "\n"
     ]
    },
    {
     "name": "stderr",
     "output_type": "stream",
     "text": [
      "[warn] nprint expected version for nprintML (1.2.0) does not match version on PATH (1.2.1 at /usr/local/bin/nprint)\n",
      "mkdir: cannot create directory ‘all_features’: File exists\n"
     ]
    },
    {
     "name": "stdout",
     "output_type": "stream",
     "text": [
      "\n"
     ]
    },
    {
     "name": "stderr",
     "output_type": "stream",
     "text": [
      "[warn] nprint expected version for nprintML (1.2.0) does not match version on PATH (1.2.1 at /usr/local/bin/nprint)\n",
      "/usr/local/lib/python3.8/dist-packages/nprintml/label/aggregator/pcap.py:94: UserWarning: genfromtxt: Empty input file: \"<NamedBytesIO: zoom-1620254209-10000-0.9-0005.npt>\"\n",
      "  npt = np.genfromtxt(\n",
      "mkdir: cannot create directory ‘all_features’: File exists\n"
     ]
    },
    {
     "name": "stdout",
     "output_type": "stream",
     "text": [
      "\n"
     ]
    },
    {
     "name": "stderr",
     "output_type": "stream",
     "text": [
      "[warn] nprint expected version for nprintML (1.2.0) does not match version on PATH (1.2.1 at /usr/local/bin/nprint)\n",
      "/usr/local/lib/python3.8/dist-packages/nprintml/label/aggregator/pcap.py:94: UserWarning: genfromtxt: Empty input file: \"<NamedBytesIO: meet-chrome-1619244983-100-0.7-0-0-0007.npt>\"\n",
      "  npt = np.genfromtxt(\n",
      "mkdir: cannot create directory ‘all_features’: File exists\n"
     ]
    },
    {
     "name": "stdout",
     "output_type": "stream",
     "text": [
      "\n"
     ]
    },
    {
     "name": "stderr",
     "output_type": "stream",
     "text": [
      "[warn] nprint expected version for nprintML (1.2.0) does not match version on PATH (1.2.1 at /usr/local/bin/nprint)\n",
      "mkdir: cannot create directory ‘all_features’: File exists\n"
     ]
    },
    {
     "name": "stdout",
     "output_type": "stream",
     "text": [
      "\n"
     ]
    },
    {
     "name": "stderr",
     "output_type": "stream",
     "text": [
      "[warn] nprint expected version for nprintML (1.2.0) does not match version on PATH (1.2.1 at /usr/local/bin/nprint)\n",
      "mkdir: cannot create directory ‘all_features’: File exists\n"
     ]
    },
    {
     "name": "stdout",
     "output_type": "stream",
     "text": [
      "\n"
     ]
    },
    {
     "name": "stderr",
     "output_type": "stream",
     "text": [
      "[warn] nprint expected version for nprintML (1.2.0) does not match version on PATH (1.2.1 at /usr/local/bin/nprint)\n",
      "mkdir: cannot create directory ‘all_features’: File exists\n"
     ]
    },
    {
     "name": "stdout",
     "output_type": "stream",
     "text": [
      "\n"
     ]
    },
    {
     "name": "stderr",
     "output_type": "stream",
     "text": [
      "[warn] nprint expected version for nprintML (1.2.0) does not match version on PATH (1.2.1 at /usr/local/bin/nprint)\n",
      "/usr/local/lib/python3.8/dist-packages/nprintml/label/aggregator/pcap.py:94: UserWarning: genfromtxt: Empty input file: \"<NamedBytesIO: teams-1620117197-100-0.8-0017.npt>\"\n",
      "  npt = np.genfromtxt(\n",
      "/usr/local/lib/python3.8/dist-packages/nprintml/label/aggregator/pcap.py:94: UserWarning: genfromtxt: Empty input file: \"<NamedBytesIO: screen_interaction_3_1616181395-0002.npt>\"\n",
      "  npt = np.genfromtxt(\n",
      "mkdir: cannot create directory ‘all_features’: File exists\n"
     ]
    },
    {
     "name": "stdout",
     "output_type": "stream",
     "text": [
      "\n"
     ]
    },
    {
     "name": "stderr",
     "output_type": "stream",
     "text": [
      "[warn] nprint expected version for nprintML (1.2.0) does not match version on PATH (1.2.1 at /usr/local/bin/nprint)\n",
      "/usr/local/lib/python3.8/dist-packages/nprintml/label/aggregator/pcap.py:94: UserWarning: genfromtxt: Empty input file: \"<NamedBytesIO: meet-chrome-1619244983-100-0.7-0-0-0007.npt>\"\n",
      "  npt = np.genfromtxt(\n",
      "mkdir: cannot create directory ‘all_features’: File exists\n"
     ]
    },
    {
     "name": "stdout",
     "output_type": "stream",
     "text": [
      "\n"
     ]
    },
    {
     "name": "stderr",
     "output_type": "stream",
     "text": [
      "[warn] nprint expected version for nprintML (1.2.0) does not match version on PATH (1.2.1 at /usr/local/bin/nprint)\n",
      "/usr/local/lib/python3.8/dist-packages/nprintml/label/aggregator/pcap.py:94: UserWarning: genfromtxt: Empty input file: \"<NamedBytesIO: meet-chrome-1619244983-100-0.7-0-0-0007.npt>\"\n",
      "  npt = np.genfromtxt(\n",
      "mkdir: cannot create directory ‘all_features’: File exists\n"
     ]
    },
    {
     "name": "stdout",
     "output_type": "stream",
     "text": [
      "\n"
     ]
    },
    {
     "name": "stderr",
     "output_type": "stream",
     "text": [
      "[warn] nprint expected version for nprintML (1.2.0) does not match version on PATH (1.2.1 at /usr/local/bin/nprint)\n",
      "mkdir: cannot create directory ‘all_features’: File exists\n"
     ]
    },
    {
     "name": "stdout",
     "output_type": "stream",
     "text": [
      "\n"
     ]
    },
    {
     "name": "stderr",
     "output_type": "stream",
     "text": [
      "[warn] nprint expected version for nprintML (1.2.0) does not match version on PATH (1.2.1 at /usr/local/bin/nprint)\n",
      "mkdir: cannot create directory ‘all_features’: File exists\n"
     ]
    },
    {
     "name": "stdout",
     "output_type": "stream",
     "text": [
      "\n"
     ]
    },
    {
     "name": "stderr",
     "output_type": "stream",
     "text": [
      "[warn] nprint expected version for nprintML (1.2.0) does not match version on PATH (1.2.1 at /usr/local/bin/nprint)\n",
      "/usr/local/lib/python3.8/dist-packages/nprintml/label/aggregator/pcap.py:94: UserWarning: genfromtxt: Empty input file: \"<NamedBytesIO: meet-chrome-1619254915-100-1.1-0-0-0007.npt>\"\n",
      "  npt = np.genfromtxt(\n",
      "/usr/local/lib/python3.8/dist-packages/nprintml/label/aggregator/pcap.py:94: UserWarning: genfromtxt: Empty input file: \"<NamedBytesIO: zoom-1620246744-10000-0.8-0003.npt>\"\n",
      "  npt = np.genfromtxt(\n",
      "mkdir: cannot create directory ‘all_features’: File exists\n"
     ]
    },
    {
     "name": "stdout",
     "output_type": "stream",
     "text": [
      "\n"
     ]
    },
    {
     "name": "stderr",
     "output_type": "stream",
     "text": [
      "[warn] nprint expected version for nprintML (1.2.0) does not match version on PATH (1.2.1 at /usr/local/bin/nprint)\n",
      "mkdir: cannot create directory ‘all_features’: File exists\n"
     ]
    },
    {
     "name": "stdout",
     "output_type": "stream",
     "text": [
      "\n"
     ]
    },
    {
     "name": "stderr",
     "output_type": "stream",
     "text": [
      "[warn] nprint expected version for nprintML (1.2.0) does not match version on PATH (1.2.1 at /usr/local/bin/nprint)\n",
      "mkdir: cannot create directory ‘all_features’: File exists\n"
     ]
    },
    {
     "name": "stdout",
     "output_type": "stream",
     "text": [
      "\n"
     ]
    },
    {
     "name": "stderr",
     "output_type": "stream",
     "text": [
      "[warn] nprint expected version for nprintML (1.2.0) does not match version on PATH (1.2.1 at /usr/local/bin/nprint)\n",
      "mkdir: cannot create directory ‘all_features’: File exists\n"
     ]
    },
    {
     "name": "stdout",
     "output_type": "stream",
     "text": [
      "\n"
     ]
    },
    {
     "name": "stderr",
     "output_type": "stream",
     "text": [
      "[warn] nprint expected version for nprintML (1.2.0) does not match version on PATH (1.2.1 at /usr/local/bin/nprint)\n",
      "mkdir: cannot create directory ‘all_features’: File exists\n"
     ]
    },
    {
     "name": "stdout",
     "output_type": "stream",
     "text": [
      "\n"
     ]
    },
    {
     "name": "stderr",
     "output_type": "stream",
     "text": [
      "[warn] nprint expected version for nprintML (1.2.0) does not match version on PATH (1.2.1 at /usr/local/bin/nprint)\n",
      "/usr/local/lib/python3.8/dist-packages/nprintml/label/aggregator/pcap.py:94: UserWarning: genfromtxt: Empty input file: \"<NamedBytesIO: zoom-1620250595-0.8-10000-0004.npt>\"\n",
      "  npt = np.genfromtxt(\n",
      "/usr/local/lib/python3.8/dist-packages/nprintml/label/aggregator/pcap.py:94: UserWarning: genfromtxt: Empty input file: \"<NamedBytesIO: teams-1620113781-0.8-100-0005.npt>\"\n",
      "  npt = np.genfromtxt(\n",
      "mkdir: cannot create directory ‘all_features’: File exists\n"
     ]
    },
    {
     "name": "stdout",
     "output_type": "stream",
     "text": [
      "\n"
     ]
    },
    {
     "name": "stderr",
     "output_type": "stream",
     "text": [
      "[warn] nprint expected version for nprintML (1.2.0) does not match version on PATH (1.2.1 at /usr/local/bin/nprint)\n",
      "mkdir: cannot create directory ‘all_features’: File exists\n"
     ]
    },
    {
     "name": "stdout",
     "output_type": "stream",
     "text": [
      "\n"
     ]
    },
    {
     "name": "stderr",
     "output_type": "stream",
     "text": [
      "[warn] nprint expected version for nprintML (1.2.0) does not match version on PATH (1.2.1 at /usr/local/bin/nprint)\n",
      "mkdir: cannot create directory ‘all_features’: File exists\n"
     ]
    },
    {
     "name": "stdout",
     "output_type": "stream",
     "text": [
      "\n"
     ]
    },
    {
     "name": "stderr",
     "output_type": "stream",
     "text": [
      "[warn] nprint expected version for nprintML (1.2.0) does not match version on PATH (1.2.1 at /usr/local/bin/nprint)\n",
      "/usr/local/lib/python3.8/dist-packages/nprintml/label/aggregator/pcap.py:94: UserWarning: genfromtxt: Empty input file: \"<NamedBytesIO: zoom-1620250595-0.8-10000-0004.npt>\"\n",
      "  npt = np.genfromtxt(\n",
      "/usr/local/lib/python3.8/dist-packages/nprintml/label/aggregator/pcap.py:94: UserWarning: genfromtxt: Empty input file: \"<NamedBytesIO: teams-1620113781-0.8-100-0005.npt>\"\n",
      "  npt = np.genfromtxt(\n"
     ]
    },
    {
     "name": "stdout",
     "output_type": "stream",
     "text": [
      "\n"
     ]
    },
    {
     "name": "stderr",
     "output_type": "stream",
     "text": [
      "mkdir: cannot create directory ‘all_features’: File exists\n",
      "[warn] nprint expected version for nprintML (1.2.0) does not match version on PATH (1.2.1 at /usr/local/bin/nprint)\n",
      "mkdir: cannot create directory ‘all_features’: File exists\n"
     ]
    },
    {
     "name": "stdout",
     "output_type": "stream",
     "text": [
      "\n"
     ]
    },
    {
     "name": "stderr",
     "output_type": "stream",
     "text": [
      "[warn] nprint expected version for nprintML (1.2.0) does not match version on PATH (1.2.1 at /usr/local/bin/nprint)\n",
      "mkdir: cannot create directory ‘all_features’: File exists\n"
     ]
    },
    {
     "name": "stdout",
     "output_type": "stream",
     "text": [
      "\n"
     ]
    },
    {
     "name": "stderr",
     "output_type": "stream",
     "text": [
      "[warn] nprint expected version for nprintML (1.2.0) does not match version on PATH (1.2.1 at /usr/local/bin/nprint)\n",
      "/usr/local/lib/python3.8/dist-packages/nprintml/label/aggregator/pcap.py:94: UserWarning: genfromtxt: Empty input file: \"<NamedBytesIO: zoom-1620250595-0.8-10000-0004.npt>\"\n",
      "  npt = np.genfromtxt(\n",
      "/usr/local/lib/python3.8/dist-packages/nprintml/label/aggregator/pcap.py:94: UserWarning: genfromtxt: Empty input file: \"<NamedBytesIO: teams-1620113781-0.8-100-0005.npt>\"\n",
      "  npt = np.genfromtxt(\n",
      "mkdir: cannot create directory ‘all_features’: File exists\n"
     ]
    },
    {
     "name": "stdout",
     "output_type": "stream",
     "text": [
      "\n"
     ]
    },
    {
     "name": "stderr",
     "output_type": "stream",
     "text": [
      "[warn] nprint expected version for nprintML (1.2.0) does not match version on PATH (1.2.1 at /usr/local/bin/nprint)\n",
      "mkdir: cannot create directory ‘all_features’: File exists\n"
     ]
    },
    {
     "name": "stdout",
     "output_type": "stream",
     "text": [
      "\n"
     ]
    },
    {
     "name": "stderr",
     "output_type": "stream",
     "text": [
      "[warn] nprint expected version for nprintML (1.2.0) does not match version on PATH (1.2.1 at /usr/local/bin/nprint)\n"
     ]
    },
    {
     "name": "stdout",
     "output_type": "stream",
     "text": [
      "\n"
     ]
    },
    {
     "name": "stderr",
     "output_type": "stream",
     "text": [
      "mkdir: cannot create directory ‘all_features’: File exists\n",
      "[warn] nprint expected version for nprintML (1.2.0) does not match version on PATH (1.2.1 at /usr/local/bin/nprint)\n",
      "mkdir: cannot create directory ‘all_features’: File exists\n"
     ]
    },
    {
     "name": "stdout",
     "output_type": "stream",
     "text": [
      "\n"
     ]
    },
    {
     "name": "stderr",
     "output_type": "stream",
     "text": [
      "[warn] nprint expected version for nprintML (1.2.0) does not match version on PATH (1.2.1 at /usr/local/bin/nprint)\n",
      "mkdir: cannot create directory ‘all_features’: File exists\n"
     ]
    },
    {
     "name": "stdout",
     "output_type": "stream",
     "text": [
      "\n"
     ]
    },
    {
     "name": "stderr",
     "output_type": "stream",
     "text": [
      "[warn] nprint expected version for nprintML (1.2.0) does not match version on PATH (1.2.1 at /usr/local/bin/nprint)\n",
      "/usr/local/lib/python3.8/dist-packages/nprintml/label/aggregator/pcap.py:94: UserWarning: genfromtxt: Empty input file: \"<NamedBytesIO: meet-chrome-1619244983-100-0.7-0-0-0007.npt>\"\n",
      "  npt = np.genfromtxt(\n",
      "mkdir: cannot create directory ‘all_features’: File exists\n"
     ]
    },
    {
     "name": "stdout",
     "output_type": "stream",
     "text": [
      "\n"
     ]
    },
    {
     "name": "stderr",
     "output_type": "stream",
     "text": [
      "[warn] nprint expected version for nprintML (1.2.0) does not match version on PATH (1.2.1 at /usr/local/bin/nprint)\n",
      "mkdir: cannot create directory ‘all_features’: File exists\n"
     ]
    },
    {
     "name": "stdout",
     "output_type": "stream",
     "text": [
      "\n"
     ]
    },
    {
     "name": "stderr",
     "output_type": "stream",
     "text": [
      "[warn] nprint expected version for nprintML (1.2.0) does not match version on PATH (1.2.1 at /usr/local/bin/nprint)\n",
      "mkdir: cannot create directory ‘all_features’: File exists\n"
     ]
    },
    {
     "name": "stdout",
     "output_type": "stream",
     "text": [
      "\n"
     ]
    },
    {
     "name": "stderr",
     "output_type": "stream",
     "text": [
      "[warn] nprint expected version for nprintML (1.2.0) does not match version on PATH (1.2.1 at /usr/local/bin/nprint)\n",
      "mkdir: cannot create directory ‘all_features’: File exists\n"
     ]
    },
    {
     "name": "stdout",
     "output_type": "stream",
     "text": [
      "\n"
     ]
    },
    {
     "name": "stderr",
     "output_type": "stream",
     "text": [
      "[warn] nprint expected version for nprintML (1.2.0) does not match version on PATH (1.2.1 at /usr/local/bin/nprint)\n",
      "/usr/local/lib/python3.8/dist-packages/nprintml/label/aggregator/pcap.py:94: UserWarning: genfromtxt: Empty input file: \"<NamedBytesIO: teams-1620117197-100-0.8-0017.npt>\"\n",
      "  npt = np.genfromtxt(\n",
      "/usr/local/lib/python3.8/dist-packages/nprintml/label/aggregator/pcap.py:94: UserWarning: genfromtxt: Empty input file: \"<NamedBytesIO: screen_interaction_3_1616181395-0002.npt>\"\n",
      "  npt = np.genfromtxt(\n",
      "mkdir: cannot create directory ‘all_features’: File exists\n"
     ]
    },
    {
     "name": "stdout",
     "output_type": "stream",
     "text": [
      "\n"
     ]
    },
    {
     "name": "stderr",
     "output_type": "stream",
     "text": [
      "[warn] nprint expected version for nprintML (1.2.0) does not match version on PATH (1.2.1 at /usr/local/bin/nprint)\n",
      "mkdir: cannot create directory ‘all_features’: File exists\n"
     ]
    },
    {
     "name": "stdout",
     "output_type": "stream",
     "text": [
      "\n"
     ]
    },
    {
     "name": "stderr",
     "output_type": "stream",
     "text": [
      "[warn] nprint expected version for nprintML (1.2.0) does not match version on PATH (1.2.1 at /usr/local/bin/nprint)\n",
      "mkdir: cannot create directory ‘all_features’: File exists\n"
     ]
    },
    {
     "name": "stdout",
     "output_type": "stream",
     "text": [
      "\n"
     ]
    },
    {
     "name": "stderr",
     "output_type": "stream",
     "text": [
      "[warn] nprint expected version for nprintML (1.2.0) does not match version on PATH (1.2.1 at /usr/local/bin/nprint)\n",
      "mkdir: cannot create directory ‘all_features’: File exists\n"
     ]
    },
    {
     "name": "stdout",
     "output_type": "stream",
     "text": [
      "\n"
     ]
    },
    {
     "name": "stderr",
     "output_type": "stream",
     "text": [
      "[warn] nprint expected version for nprintML (1.2.0) does not match version on PATH (1.2.1 at /usr/local/bin/nprint)\n",
      "mkdir: cannot create directory ‘all_features’: File exists\n"
     ]
    },
    {
     "name": "stdout",
     "output_type": "stream",
     "text": [
      "\n"
     ]
    },
    {
     "name": "stderr",
     "output_type": "stream",
     "text": [
      "[warn] nprint expected version for nprintML (1.2.0) does not match version on PATH (1.2.1 at /usr/local/bin/nprint)\n",
      "mkdir: cannot create directory ‘all_features’: File exists\n"
     ]
    },
    {
     "name": "stdout",
     "output_type": "stream",
     "text": [
      "\n"
     ]
    },
    {
     "name": "stderr",
     "output_type": "stream",
     "text": [
      "[warn] nprint expected version for nprintML (1.2.0) does not match version on PATH (1.2.1 at /usr/local/bin/nprint)\n",
      "mkdir: cannot create directory ‘all_features’: File exists\n"
     ]
    },
    {
     "name": "stdout",
     "output_type": "stream",
     "text": [
      "\n"
     ]
    },
    {
     "name": "stderr",
     "output_type": "stream",
     "text": [
      "[warn] nprint expected version for nprintML (1.2.0) does not match version on PATH (1.2.1 at /usr/local/bin/nprint)\n",
      "/usr/local/lib/python3.8/dist-packages/nprintml/label/aggregator/pcap.py:94: UserWarning: genfromtxt: Empty input file: \"<NamedBytesIO: meet-chrome-1619244983-100-0.7-0-0-0007.npt>\"\n",
      "  npt = np.genfromtxt(\n",
      "mkdir: cannot create directory ‘all_features’: File exists\n"
     ]
    },
    {
     "name": "stdout",
     "output_type": "stream",
     "text": [
      "\n"
     ]
    },
    {
     "name": "stderr",
     "output_type": "stream",
     "text": [
      "[warn] nprint expected version for nprintML (1.2.0) does not match version on PATH (1.2.1 at /usr/local/bin/nprint)\n",
      "mkdir: cannot create directory ‘all_features’: File exists\n"
     ]
    },
    {
     "name": "stdout",
     "output_type": "stream",
     "text": [
      "\n"
     ]
    },
    {
     "name": "stderr",
     "output_type": "stream",
     "text": [
      "[warn] nprint expected version for nprintML (1.2.0) does not match version on PATH (1.2.1 at /usr/local/bin/nprint)\n",
      "/usr/local/lib/python3.8/dist-packages/nprintml/label/aggregator/pcap.py:94: UserWarning: genfromtxt: Empty input file: \"<NamedBytesIO: zoom-1620250595-0.8-10000-0004.npt>\"\n",
      "  npt = np.genfromtxt(\n",
      "/usr/local/lib/python3.8/dist-packages/nprintml/label/aggregator/pcap.py:94: UserWarning: genfromtxt: Empty input file: \"<NamedBytesIO: teams-1620113781-0.8-100-0005.npt>\"\n",
      "  npt = np.genfromtxt(\n",
      "mkdir: cannot create directory ‘all_features’: File exists\n"
     ]
    },
    {
     "name": "stdout",
     "output_type": "stream",
     "text": [
      "\n"
     ]
    }
   ],
   "source": [
    "counter = 0\n",
    "succ = 0\n",
    "for i in experiments:\n",
    "    cmd = i\n",
    "#     ### following condition only used for rerun\n",
    "#     if i.split('flow_')[-1] == 'tcp_fin' or i.split('flow_')[-1] == 'ipv4_dfbit':\n",
    "    outfile_str = i.split('-o /home/xijiang9/Desktop/baseline/nprintml_gbm/')[1]+'.txt'\n",
    "    out_dir = i.split('-o ')[1]\n",
    "    model_dir = i.split('flow_')[-1]\n",
    "    with open(outfile_str, \"w\") as outfile:\n",
    "        p = subprocess.run(cmd, shell=True,stdout=outfile)\n",
    "        os.system('mv '+outfile_str+' '+out_dir)\n",
    "        print()\n",
    "    try:\n",
    "        os.system('mkdir '+model_dir)\n",
    "    except:\n",
    "        succ = 1\n",
    "    os.system('mv '+out_dir + \" \" +model_dir)\n",
    "    if counter%100 == 0:\n",
    "        print('done with' + str(counter))\n",
    "    counter +=1"
   ]
  },
  {
   "cell_type": "code",
   "execution_count": null,
   "id": "75e1dc67",
   "metadata": {},
   "outputs": [],
   "source": [
    "counter = 0\n",
    "for i in experiments:\n",
    "    cmd = i\n",
    "    p = subprocess.run(cmd, shell=True)\n",
    "    print()\n",
    "    print('done with' + str(counter))\n",
    "    counter +=1\n"
   ]
  },
  {
   "cell_type": "code",
   "execution_count": 27,
   "id": "3a135b42",
   "metadata": {},
   "outputs": [
    {
     "name": "stdout",
     "output_type": "stream",
     "text": [
      "0\n"
     ]
    }
   ],
   "source": [
    "\n",
    "\n",
    "\n",
    "counter = 0\n",
    "for i in os.listdir('/home/xijiang9/Desktop/experiments/exhaustive_speed_test/'):\n",
    "    if 'ipynb_checkpoints' not in i and 'experiment_runner' not in i:\n",
    "        for j in os.listdir(i):\n",
    "            result_file = '/home/xijiang9/Desktop/experiments/exhaustive_speed_test/'+i+'/'+j+'/'+j+'.txt'\n",
    "            with open(result_file,'r') as f:\n",
    "                if 'len' in f.readline():\n",
    "                    counter +=1\n",
    "print(counter)"
   ]
  }
 ],
 "metadata": {
  "kernelspec": {
   "display_name": "Python 3 (ipykernel)",
   "language": "python",
   "name": "python3"
  },
  "language_info": {
   "codemirror_mode": {
    "name": "ipython",
    "version": 3
   },
   "file_extension": ".py",
   "mimetype": "text/x-python",
   "name": "python",
   "nbconvert_exporter": "python",
   "pygments_lexer": "ipython3",
   "version": "3.9.13"
  }
 },
 "nbformat": 4,
 "nbformat_minor": 5
}
